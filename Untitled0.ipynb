{
  "nbformat": 4,
  "nbformat_minor": 0,
  "metadata": {
    "colab": {
      "provenance": [],
      "authorship_tag": "ABX9TyMGpVkLGYy3nWnLjw4mzy3d",
      "include_colab_link": true
    },
    "kernelspec": {
      "name": "python3",
      "display_name": "Python 3"
    },
    "language_info": {
      "name": "python"
    }
  },
  "cells": [
    {
      "cell_type": "markdown",
      "metadata": {
        "id": "view-in-github",
        "colab_type": "text"
      },
      "source": [
        "<a href=\"https://colab.research.google.com/github/RafaelSantoro-84/Analise-de-Dados/blob/main/Untitled0.ipynb\" target=\"_parent\"><img src=\"https://colab.research.google.com/assets/colab-badge.svg\" alt=\"Open In Colab\"/></a>"
      ]
    },
    {
      "cell_type": "code",
      "execution_count": 1,
      "metadata": {
        "colab": {
          "base_uri": "https://localhost:8080/"
        },
        "id": "ru-hfdBHklbS",
        "outputId": "5a3979b9-7a7c-4fe8-8b24-1a8b1fc98235"
      },
      "outputs": [
        {
          "output_type": "stream",
          "name": "stdout",
          "text": [
            "digite um número: 5\n",
            "digite outro número: 8\n",
            "O segundo número que vc digitou é maior : 8\n"
          ]
        }
      ],
      "source": [
        "# Faça um programa que peça dois números e imprima o maior deles.\n",
        "numero= int(input(\"digite um número: \"))\n",
        "numero2= int(input(\"digite outro número: \"))\n",
        "\n",
        "if numero > numero2:\n",
        "    print(f\"O primeiro número que você digitou é maior: {numero}\")\n",
        "else:\n",
        "    print(f\"O segundo número que vc digitou é maior : {numero2}\")"
      ]
    },
    {
      "cell_type": "code",
      "source": [
        "#Faça um script que peça um valor e mostre na tela se o valor é positivo ou negativo.\n",
        "x = int(input(\"digite um valor: \"))\n",
        "if x < 0:\n",
        "    print(\"negativo\")\n",
        "else:\n",
        "    print(\"positivo\")\n"
      ],
      "metadata": {
        "colab": {
          "base_uri": "https://localhost:8080/"
        },
        "id": "gweS0pEWk0TU",
        "outputId": "0da3ea3a-6611-43f3-fd49-6897be4e85dd"
      },
      "execution_count": 2,
      "outputs": [
        {
          "output_type": "stream",
          "name": "stdout",
          "text": [
            "digite um valor: -5\n",
            "negativo\n"
          ]
        }
      ]
    },
    {
      "cell_type": "code",
      "source": [
        "#Crie um programa que verifique se uma letra digitada é \"F\" ou \"M\". Conforme a letra escrever: F - Feminino, M - Masculino, Sexo Inválido.\n",
        "\n",
        "sexo = input(\"digite seu sexo: \")\n",
        "if sexo.upper() == \"F\":\n",
        "  print(\"Feminino\")\n",
        "elif sexo.upper() == \"M\":\n",
        "  print(\"Masculino\")\n",
        "else:\n",
        "  print(\"Invalido\")"
      ],
      "metadata": {
        "colab": {
          "base_uri": "https://localhost:8080/"
        },
        "id": "JqYuxVHeueF2",
        "outputId": "e7e5ab39-dce2-45e3-8851-0556e57a5104"
      },
      "execution_count": 46,
      "outputs": [
        {
          "output_type": "stream",
          "name": "stdout",
          "text": [
            "digite seu sexo: o\n",
            "Invalido\n"
          ]
        }
      ]
    },
    {
      "cell_type": "code",
      "source": [
        "\"\"\"Crie um código em linguagem Python que peça o nome do usuário\n",
        "por meio da função input (). Se o nome for \"Ultima\", imprima \"Bem-vindo, você é um(a) exclenete aluno(a)\".\n",
        " Caso contrário, imprima \"Bom dia, NOME\". (Substitua o NOME pelo nome do usuário).\n",
        "\"\"\"\n",
        "nome = input(\"Digite seu nome: \")\n",
        "if nome == \"Ultima\":\n",
        "  print(\"Bem-vindo, você é um(a) exclenete aluno(a)\")\n",
        "else:\n",
        "  print(f'Bom dia,  {nome}')\n"
      ],
      "metadata": {
        "colab": {
          "base_uri": "https://localhost:8080/"
        },
        "id": "AhaP2w8kwKQm",
        "outputId": "9a4378e6-10cb-4987-89e3-30d2f178b9b9"
      },
      "execution_count": 59,
      "outputs": [
        {
          "output_type": "stream",
          "name": "stdout",
          "text": [
            "Digite seu nome: Ultima\n",
            "Bem-vindo, você é um(a) exclenete aluno(a)\n"
          ]
        }
      ]
    },
    {
      "cell_type": "code",
      "source": [
        "# Escrever um programa em Python para ler um número inteiro e informar se ele é divisível por 5\n",
        "numero = int(input(\"digite um número para saber se é divisivel por 5: \"))\n",
        "resultado = numero % 5\n",
        "if resultado == 0:\n",
        "  print(\"esse número é divisivel por 5\")\n",
        "else:\n",
        "  print(\"esse número não é divisivel por 5\")\n",
        "\n",
        "\n"
      ],
      "metadata": {
        "colab": {
          "base_uri": "https://localhost:8080/"
        },
        "id": "-rZe7Hc4w_yc",
        "outputId": "b612db6a-a964-4e5f-eb0a-9e91418f0245"
      },
      "execution_count": 70,
      "outputs": [
        {
          "output_type": "stream",
          "name": "stdout",
          "text": [
            "digite um número para saber se é divisivel por 5: 3\n",
            "esse número não é divisivel por 5\n"
          ]
        }
      ]
    },
    {
      "cell_type": "code",
      "source": [
        "#Escreva um programa Python para verificar se uma letra do Alfabeto(Abecedário) é uma vogal ou consoante.\n",
        "letra = input(\"Escreva uma letra para saber de é vogal ou consoante: \")\n",
        "if (letra == \"a\") or (letra == \"e\") or (letra == \"i\") or (letra == \"o\") or (letra == \"u\"):\n",
        "  print(\"Essa letra é uma vogal\")\n",
        "else:\n",
        "   print(\"Essa letra é uma consoante\")\n",
        "\n",
        "\n",
        "\n",
        "\n"
      ],
      "metadata": {
        "colab": {
          "base_uri": "https://localhost:8080/"
        },
        "id": "zyTJzhGV7lZD",
        "outputId": "efdb1623-d72c-4a19-8316-0f97146f6d54"
      },
      "execution_count": 78,
      "outputs": [
        {
          "output_type": "stream",
          "name": "stdout",
          "text": [
            "Escreva uma letra para saber de é vogal ou consoante: r\n",
            "Essa letra é uma consoante\n"
          ]
        }
      ]
    },
    {
      "cell_type": "code",
      "source": [
        "5%3\n"
      ],
      "metadata": {
        "colab": {
          "base_uri": "https://localhost:8080/"
        },
        "id": "xVoAMKNj7Mtg",
        "outputId": "f6134b08-eba4-4752-810f-90a0c64c25d3"
      },
      "execution_count": 68,
      "outputs": [
        {
          "output_type": "execute_result",
          "data": {
            "text/plain": [
              "2"
            ]
          },
          "metadata": {},
          "execution_count": 68
        }
      ]
    }
  ]
}